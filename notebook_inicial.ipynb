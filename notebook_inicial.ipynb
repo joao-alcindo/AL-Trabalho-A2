{
 "cells": [
  {
   "cell_type": "markdown",
   "metadata": {},
   "source": [
    "## Transformações Lineares de $R^2$ para $R^2$"
   ]
  },
  {
   "cell_type": "markdown",
   "metadata": {},
   "source": [
    "Como o trabalho se trata de deformações e morfismo de imagens, logo nosso foco principal são as transformações lineares de $R^2 \\rightarrow R^2$, vamos trabalhar com matrizex $2 \\times 2$, vejamos alguns exemplos a seguir de matrizes canônicas das principais transformações lineares:"
   ]
  },
  {
   "cell_type": "markdown",
   "metadata": {},
   "source": [
    "###  Reflexão no eixo y  \n",
    "\n",
    "A matriz canôninca dessa transformação é a matriz  $\\begin{bmatrix}-1&0\\\\0&1\\end{bmatrix}$, vamos usar o quadrado unitário como exemplo para as tranformações:\n",
    "\n",
    "<img src=\"img/reflex_y.png\" width=\"300\">\n"
   ]
  },
  {
   "cell_type": "markdown",
   "metadata": {},
   "source": [
    "###  Reflexão no eixo x  \n",
    "\n",
    "A matriz canôninca dessa transformação é a matriz  $\\begin{bmatrix}1&0\\\\0&-1\\end{bmatrix}$:\n",
    "\n",
    "<img src=\"img/reflex_x.png\" width=\"300\">"
   ]
  },
  {
   "cell_type": "markdown",
   "metadata": {},
   "source": [
    "###  Reflexão na reta x=y\n",
    "\n",
    "A matriz canôninca dessa transformação é a matriz  $\\begin{bmatrix}0&1\\\\1&0\\end{bmatrix}$:\n",
    "\n",
    "<img src=\"img/reflex_xy.png\" width=\"300\">"
   ]
  },
  {
   "cell_type": "markdown",
   "metadata": {},
   "source": [
    "###  Rotção anti-horária pelo ângulo $\\theta$  \n",
    "\n",
    "A matriz canôninca dessa transformação é a matriz  $\\begin{bmatrix}\\cos\\theta&-\\sin\\theta\\\\\\sin\\theta&\\cos\\theta\\end{bmatrix}$:\n",
    "\n",
    "<img src=\"img/rotacao.png\" width=\"300\">"
   ]
  },
  {
   "cell_type": "markdown",
   "metadata": {},
   "source": [
    "### Compressão e expansão na direção x pelo fator k\n",
    "\n",
    "A matriz canôninca dessa transformação é a matriz  $\\begin{bmatrix}k&0\\\\0&1\\end{bmatrix}$:\n",
    "\n",
    "Para $0<k<1$ ocorre uma compressão: \n",
    "\n",
    "<img src=\"img/compressao.png\" width=\"300\">\n",
    "\n",
    "Agora se $k>1$ ocorre uma expansão:\n",
    "\n",
    "<img src=\"img/extensao.png\" width=\"300\">"
   ]
  },
  {
   "cell_type": "markdown",
   "metadata": {},
   "source": [
    "### Cisalhamento de fator $k>0$ na direção x e y:\n",
    "\n",
    "#### Direção x:\n",
    "A matriz canôninca dessa transformação é a matriz  $\\begin{bmatrix}1&k\\\\0&1\\end{bmatrix}$\n",
    "\n",
    "<img src=\"img/cisalhamento_x.png\" width=\"300\">\n",
    "\n",
    "#### Direção y:\n",
    "A matriz canôninca dessa transformação é a matriz  $\\begin{bmatrix}1&0\\\\k&1\\end{bmatrix}$\n",
    "\n",
    "<img src=\"img/cisalhamento_y.png\" width=\"300\">\n"
   ]
  },
  {
   "cell_type": "markdown",
   "metadata": {},
   "source": [
    "### Testando alguns plots "
   ]
  },
  {
   "cell_type": "markdown",
   "metadata": {},
   "source": [
    "# Deformação\n",
    "\n",
    "Os princípios da deformação vem de alguns conceitos de Álgebra linear são eles combinaçao convexa, transformação afim e uma função escalar que é denomidada de densidade da imagem, que vai relacionar a cor no ponto inicial até o ponto correspondente a ele na deformação:"
   ]
  },
  {
   "cell_type": "markdown",
   "metadata": {},
   "source": [
    "### Combinação Convexa:\n",
    "\n",
    "A definição de combinação convexa é dado uma quantidade finita de vetores independentes(no nosso caso podemos pensar os vetores como pontos) $x_1,x_2, \\cdots, x_n$ dada a combinação $v = \\alpha_1 x_1+\\alpha_2 x_2+ \\cdots \\alpha_n x_n$ é dita convexa, se e somente se, $\\alpha_i \\geq 0$ para todo $i=1,2,\\cdots,n$ e $\\sum\\limits_{i=1}^n \\alpha_i = 1$.\n",
    "\n",
    "<img src=\"img/comconv_2.png\" width=\"450\">\n",
    "\n",
    "A partir disso vamos olhar para esse triângulo inicial, dado $v$ um ponto no triângulo, temos que $v-v_3=c_1(v_1-v_3)+c_2(v_2-v_3)$, essa equação nos da uma combinação linear, se tomarmos $c_3=1-c_1-c_2$, vamos ficar com  $v=c_1v_1+c_2v_2+c_3v_3$, onde $c_1+c_2+c_3=1$.\n",
    "\n",
    "Logo se tomarmos $c_i \\geq 0$ para todo $i=1,2,3$, temos uma combinação convexa e a partir disso podemos concluir que o vetor $v$ pertence ao triângulo.  \n",
    "\n",
    "### Transformação Afim:\n",
    "\n",
    "**Definição:** Uma transformação afim é uma aplicação de $R^2$ em $R^2$ da forma:\n",
    "\n",
    "$$T\\left(\\begin{bmatrix}x\\\\y\\end{bmatrix}\\right)=\\begin{bmatrix}a&b\\\\c&d\\end{bmatrix}\\begin{bmatrix}x\\\\y\\end{bmatrix} +\\begin{bmatrix}e\\\\f\\end{bmatrix}  $$\n",
    "\n",
    "em que $a,b,c,d,e,f$ são escalares.\n",
    "\n",
    "<img src=\"img/transafim_2.png\" width=\"450\">\n",
    "\n",
    "Agora olhando para esse triângulo final existe uma única tranformação afim que tranforma $v_1$ em $w_1$, $v_2$ em $w_2$ e $v_3$ em $w_2$. Além disso por essa tranformação afim, a imagem $w$ do vetor $v$ pode ser escrita como $w=c_1w_1+c_2w_2+c_3w_3$.\n",
    "\n",
    "Essa é uma propriedade básica de transformações afins: transformar uma combinação convexa de vetores na mesma combinação convexa das imagens dos vetores.\n",
    "\n",
    "### Deformação com uma imagem dentro:\n",
    "\n",
    "<img src=\"img/timagen1.png\" width=\"200\">\n",
    "\n",
    "Como podemos ver acima o triângulo inicial contém uma imagem dentro , agora vamos adotar a escala de cores de **0 para branco e 100 para preto**, onde cada ponto tem um nível de cinza de 0 a 100. Isso quer dizer que é definido uma função escalar $\\rho_o$, denominada densidade de imagem do triângulo inicial, de tal modo que seja $\\rho_0(v)$ o nível de cinza associado ao ponto $v$.\n",
    "\n",
    "<img src=\"img/timagem2.png\" width=\"200\">\n",
    "\n",
    "Agora olhando para essa imagem já deformada, e lembrando da ideia de transformação afim onde $w=c_1w_1+c_2w_2+c_3w_3$ é a imagem de $v$ no novo triângulo, esse ponto na imagem manterá o mesmo nivel de cinza do ponto $v$, denominando $\\rho_1$ a função de densidade de imagem no triângulo final, teremos que:\n",
    "\n",
    "$\\rho_1(w)=\\rho_0(c_1v_1+c_2v_2+c_3v_3)$.\n",
    "\n",
    "A medida que $c_1,c_2,c_3$ variam atendendo as restrições de uma combinação convexa geram os níveis de cinza $\\rho_1(w)$ dos pontos da imagem deformada."
   ]
  },
  {
   "cell_type": "code",
   "execution_count": null,
   "metadata": {},
   "outputs": [],
   "source": []
  }
 ],
 "metadata": {
  "kernelspec": {
   "display_name": "Python 3",
   "language": "python",
   "name": "python3"
  },
  "language_info": {
   "codemirror_mode": {
    "name": "ipython",
    "version": 3
   },
   "file_extension": ".py",
   "mimetype": "text/x-python",
   "name": "python",
   "nbconvert_exporter": "python",
   "pygments_lexer": "ipython3",
   "version": "3.8.5"
  }
 },
 "nbformat": 4,
 "nbformat_minor": 4
}
