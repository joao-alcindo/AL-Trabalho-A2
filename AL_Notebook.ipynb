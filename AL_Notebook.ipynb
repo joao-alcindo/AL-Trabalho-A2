{
 "cells": [
  {
   "cell_type": "markdown",
   "metadata": {},
   "source": [
    "# Introdução"
   ]
  },
  {
   "cell_type": "markdown",
   "metadata": {},
   "source": [
    "Esse relatório, elaborado para o trabalho final da disciplina Algebra Linear (FGV - EMAp), tem como objetivo discutir e analisar o tópico de deformações e morfismos, uma aplicação da matéria na área de computação gráfica. \n",
    "\n",
    "O morfismo é uma técnica cujo objetivo, a princípio,  é fazer transições suaves entre uma imagem inicial e uma final. A transformação dessas imagens é feita através de deformações, processo que consiste em distorcer várias partes da imagem de maneiras distintas. No exemplo abaixo a imagem inicial e a final foram deformadas, produzindo um morfismo que demostra o envelhecimento do homem.\n",
    "No contexto  de morfismo por deformação, existem algumas ramificações, das quais se destacam o Multilevel free-form deformation (MFFD) e a Malha Deformável. Iremos apresentar o a deformação por malhas deformáveis. \n",
    "\n",
    "<img src=\"img/menino-homem.jpg\" width=\"500\">"
   ]
  },
  {
   "cell_type": "markdown",
   "metadata": {},
   "source": [
    " A aplicação desse tema pode ser encontrada, principalmente, no cinema, mas também há aplicações no meio científico, além de ser útil na busca de pessoas desaparecidas.\n",
    " \n",
    "Para nossa aplicação, escolhemos utilizar algumas imagens de pessoas conhecidas, como políticos e matemáticos."
   ]
  },
  {
   "cell_type": "markdown",
   "metadata": {},
   "source": [
    "# Desenvolvimento"
   ]
  },
  {
   "cell_type": "markdown",
   "metadata": {},
   "source": [
    "## Transformações lineares"
   ]
  },
  {
   "cell_type": "markdown",
   "metadata": {},
   "source": [
    "Para as compreender as distorções que ocorrem durante o processo de deformação e morfismo, utilizamos transformações $R^2 \\rightarrow R^2$. Exemplificaremos as transformações lineares principais com matrizex $2 \\times 2$ canônicas:"
   ]
  },
  {
   "cell_type": "markdown",
   "metadata": {},
   "source": [
    "###  Reflexão no eixo y  \n",
    "\n",
    "A matriz canôninca dessa transformação é a matriz  $\\begin{bmatrix}-1&0\\\\0&1\\end{bmatrix}$, vamos usar o quadrado unitário como exemplo para as tranformações:\n",
    "\n",
    "<img src=\"img/reflex_y.png\" width=\"300\">\n",
    " "
   ]
  },
  {
   "cell_type": "markdown",
   "metadata": {},
   "source": [
    "###  Reflexão no eixo x  \n",
    "\n",
    "A matriz canôninca dessa transformação é a matriz  $\\begin{bmatrix}1&0\\\\0&-1\\end{bmatrix}$:\n",
    "\n",
    "<img src=\"img/reflex_x.png\" width=\"300\">"
   ]
  },
  {
   "cell_type": "markdown",
   "metadata": {},
   "source": [
    "###  Reflexão na reta x=y\n",
    "\n",
    "A matriz canôninca dessa transformação é a matriz  $\\begin{bmatrix}0&1\\\\1&0\\end{bmatrix}$:\n",
    "\n",
    "<img src=\"img/reflex_xy.png\" width=\"300\">"
   ]
  },
  {
   "cell_type": "markdown",
   "metadata": {},
   "source": [
    "###  Rotação anti-horária pelo ângulo $\\theta$  \n",
    "\n",
    "A matriz canôninca dessa transformação é a matriz  $\\begin{bmatrix}\\cos\\theta&-\\sin\\theta\\\\\\sin\\theta&\\cos\\theta\\end{bmatrix}$:\n",
    "\n",
    "<img src=\"img/rotacao.png\" width=\"300\">"
   ]
  },
  {
   "cell_type": "markdown",
   "metadata": {},
   "source": [
    "### Compressão e expansão na direção x pelo fator k\n",
    "\n",
    "A matriz canôninca dessa transformação é a matriz  $\\begin{bmatrix}k&0\\\\0&1\\end{bmatrix}$:\n",
    "\n",
    "Para $0<k<1$ ocorre uma compressão: \n",
    "\n",
    "<img src=\"img/compressao.png\" width=\"300\">\n",
    "\n",
    "Agora se $k>1$ ocorre uma expansão:\n",
    "\n",
    "<img src=\"img/extensao.png\" width=\"300\">"
   ]
  },
  {
   "cell_type": "markdown",
   "metadata": {},
   "source": [
    "### Cisalhamento de fator $k>0$ na direção x e y:\n",
    "\n",
    "#### Direção x:\n",
    "A matriz canôninca dessa transformação é a matriz  $\\begin{bmatrix}1&k\\\\0&1\\end{bmatrix}$\n",
    "\n",
    "<img src=\"img/cisalhamento_x.png\" width=\"300\">\n",
    "\n",
    "#### Direção y:\n",
    "A matriz canôninca dessa transformação é a matriz  $\\begin{bmatrix}1&0\\\\k&1\\end{bmatrix}$\n",
    "\n",
    "<img src=\"img/cisalhamento_y.png\" width=\"300\">"
   ]
  },
  {
   "cell_type": "markdown",
   "metadata": {},
   "source": [
    "# Deformações"
   ]
  },
  {
   "cell_type": "markdown",
   "metadata": {},
   "source": [
    "Para compreender as deformações, são necessários alguns conceitos de Algebra Linear: combinação convexa, transformação afim e uma função escalar, denomidada densidade da imagem, que vai relacionar a cor no ponto inicial até o ponto correspondente a ele na deformação. "
   ]
  },
  {
   "cell_type": "markdown",
   "metadata": {},
   "source": [
    "### Combinação Convexa:\n",
    "\n",
    "A definição de combinação convexa é dado uma quantidade finita de vetores independentes(no nosso caso podemos pensar os vetores como pontos não colineares) $x_1,x_2, \\cdots, x_n$ dada a combinação $v = \\alpha_1 x_1+\\alpha_2 x_2+ \\cdots \\alpha_n x_n$ é dita convexa, se e somente se, $\\alpha_i \\geq 0$ para todo $i=1,2,\\cdots,n$ e $\\sum\\limits_{i=1}^n \\alpha_i = 1$.\n",
    "\n",
    "<img src=\"img/comconv_2.png\" width=\"450\">\n",
    "\n",
    "A partir disso vamos olhar para esse triângulo inicial, dado $v$ um ponto no triângulo, temos que $v-v_3=c_1(v_1-v_3)+c_2(v_2-v_3)$, essa equação nos da uma combinação linear, se tomarmos $c_3=1-c_1-c_2$, vamos ficar com  $v=c_1v_1+c_2v_2+c_3v_3$, onde $c_1+c_2+c_3=1$.\n",
    "\n",
    "Logo se tomarmos $c_i \\geq 0$ para todo $i=1,2,3$, temos uma combinação convexa e a partir disso podemos concluir que o vetor $v$ pertence ao triângulo.  \n",
    "\n",
    "### Transformação Afim:\n",
    "\n",
    "**Definição:** Uma transformação afim é uma aplicação de $R^2$ em $R^2$ da forma:\n",
    "\n",
    "$$T\\left(\\begin{bmatrix}x\\\\y\\end{bmatrix}\\right)=\\begin{bmatrix}a&b\\\\c&d\\end{bmatrix}\\begin{bmatrix}x\\\\y\\end{bmatrix} +\\begin{bmatrix}e\\\\f\\end{bmatrix}  $$\n",
    "\n",
    "em que $a,b,c,d,e,f$ são escalares.\n",
    "\n",
    "<img src=\"img/transafim_2.png\" width=\"450\">\n",
    "\n",
    "Agora olhando para esse triângulo final existe uma única tranformação afim que tranforma $v_1$ em $w_1$, $v_2$ em $w_2$ e $v_3$ em $w_2$. Além disso por essa tranformação afim, a imagem $w$ do vetor $v$ pode ser escrita como $w=c_1w_1+c_2w_2+c_3w_3$.\n",
    "\n",
    "Essa é uma propriedade básica de transformações afins: transformar uma combinação convexa de vetores na mesma combinação convexa das imagens dos vetores.\n",
    "\n",
    "### Deformação de um triângulo com uma imagem dentro:\n",
    "\n",
    "<img src=\"img/timagen1.png\" width=\"200\">\n",
    "\n",
    "Como podemos ver acima o triângulo inicial contém uma imagem dentro , agora vamos adotar a escala de cores de **0 para branco e 100 para preto**, onde cada ponto pertencente ao triângulo tem um nível de cinza de 0 a 100. Isso quer dizer que é definido uma função escalar $\\rho_o$, denominada densidade de imagem do triângulo inicial, de tal modo que seja $\\rho_0(v)$ o nível de cinza associado ao ponto $v$.\n",
    "\n",
    "<img src=\"img/timagem2.png\" width=\"200\">\n",
    "\n",
    "Agora olhando para essa imagem já deformada, e lembrando da ideia de transformação afim onde $w=c_1w_1+c_2w_2+c_3w_3$ é a imagem de $v$ no novo triângulo, esse ponto na imagem manterá o mesmo nivel de cinza do ponto $v$, denominando $\\rho_1$ a função de densidade de imagem no triângulo final, teremos que:\n",
    "\n",
    "$\\rho_1(w)=\\rho_0(c_1v_1+c_2v_2+c_3v_3)$.\n",
    "\n",
    "A medida que $c_1,c_2,c_3$ variam atendendo as restrições de uma combinação convexa geram os níveis de cinza $\\rho_1(w)$ dos pontos da imagem deformada."
   ]
  },
  {
   "cell_type": "markdown",
   "metadata": {},
   "source": [
    "## Triangulação "
   ]
  },
  {
   "cell_type": "markdown",
   "metadata": {},
   "source": [
    "Para distorcer cada região da imagem de maneira distinta, é necessário limitar as áreas a serem modificadas. Essa etapa da deformação consiste na triangulação. Inicialmente, são escolhidos pontos de vértices em partes essenciais da imagem, depois, são traçados seguimentos de retas entre eles, determinando regiões triangulares. Esses segmentos são traçados cumprindo as seguintes condições: \n",
    "\n",
    "1. Os segmentos formam os lados de uma coleção de triângulos \n",
    "2. Os segmentos não se cruzam \n",
    "3. A coleção de triângulos é máxima (ou seja, cada ponto de vértice pertence a pelo menos um triângulo)\n",
    "4. A união dos triângulos é o retângulo ( implica que cada “canto” da imagem possua um vértice)\n",
    "\n",
    "\n",
    "Note que a triangulação não é única, porém o número m de triângulos formados por um conjunto de n vértices pode ser dado por:\n",
    "\n",
    "$M = 2n -2 – k$, em que k são os vértices na fronteira do retângulo \n",
    "\n",
    "Um método bastante utilizado de triangulação é o de Delaunay, cuja explicação foge do objetivo desse trabalho. \n",
    "\n",
    "Em seguida, a deformação é realizada através do movimento dos $n$ pontos $ {v1...vn} $ para novas posições $ {w1...wn} $, que formam uma nova triangulação. \n",
    "\n",
    "\n",
    "<img src=\"img/triangulacao mulher.png\" width=\"300\">\n"
   ]
  },
  {
   "cell_type": "markdown",
   "metadata": {},
   "source": [
    "## Deformações"
   ]
  },
  {
   "cell_type": "markdown",
   "metadata": {},
   "source": [
    "As deformação dependentes do tempo são gerada quando os pontos de vértice ${v1...vn}$ iniciais são deformados continuamente no intervalo de tempo $t [0,1]$ até suas posições finais ${w1...w2}$ especificadas, em $t=1$, gerando uma espécie de animação.  \n",
    "O movimento dos vértices é descrito por:\n",
    "\n",
    "Seja $V$ a matriz de vértices iniciais e $W$ a de vértices finais,\n",
    "\n",
    "$U(t) = V + t(W-V)$ \n",
    "\n",
    "Logo, $U$ representa a matriz de pontos no instante t, em que cada vetor $ui$ é um novo ponto de vértice.\n",
    "\n",
    "Note que $ui$ é uma combinação convexa de $vi$ e $wi$ para cada instante $t$. \n",
    "\n",
    "A malha abaixo representa o movimento dos vértices dependente do tempo.\n",
    "\n",
    "<img src=\"img/malha deformação.png\" width=\"300\">"
   ]
  },
  {
   "cell_type": "markdown",
   "metadata": {},
   "source": [
    "## Morfismos"
   ]
  },
  {
   "cell_type": "markdown",
   "metadata": {},
   "source": [
    "As imagens que seguem exemplificam a diferença entre deformação (primeira figura) e morfismo (segunda figura). É evidente que as imagens intermediárias do morfismo são mais próximas do natural, em relação a deformação pura. Essa diferença é determinada, principalmente, nos passos finais do processo de morfismo, detalhados a seguir. \n",
    "\n",
    "<img src=\"img/deformação dependente do tempo mulher.png\" width=\"500\">\n",
    "\n",
    "<img src=\"img/morfismo dependente do tempo mulher.png\" width=\"500\">"
   ]
  },
  {
   "cell_type": "markdown",
   "metadata": {},
   "source": [
    "Para aplicar o morfismo de fato, precisamos primeiro realizar duas deformações. A primeira deforma a imagem inicial para a final. A outra, o contrário, deforma a imagem final para a inicial. Com isso, podemos calcular a matriz de pontos de vértices da deformação U(t) e triangular essas matrizes intermediárias de forma semelhante as triangulações das imagens originais. \n",
    "\n",
    "Tendo aplicado essas deformações, precisamos mapear a transformação sofrida por cada região triangular das imagens originais em relação a deformada.O mapeamento é calculado como se segue. Dado um conjunto de pontos iniciais (nesse caso uma imagem, em que os pontos representam os pixels) e uma deformação, computa-se a transformação afim que gera a distorção da imagem, ou seja, precisamos resolver:\n",
    "\n",
    "$ d = Av + b$\n",
    "\n",
    "Seja $v$ um ponto na imagem inicial  e $d$ o ponto deformado correspondente.\n",
    "\n",
    "Para isso, podemos considerar alguns métodos. Vamos apresentar um bastante interessante, que pode ser computado facilmente, conhecido como SAM (Simplex Affine Map):\n",
    "\n",
    "Seja $T$ a transformação, $D$ a matriz dos pontos deformados, $V$ a matriz de pontos originais, então"
   ]
  },
  {
   "cell_type": "markdown",
   "metadata": {},
   "source": [
    "\n",
    "$$T = (-1) \\cdot \\dfrac{det \\begin{pmatrix}\n",
    "0 & \\begin{bmatrix} d_1  & \\cdots  & d_n \\end{bmatrix} \\\\\n",
    "\\begin{matrix}\n",
    "x\\\\\n",
    "\\\\\n",
    "y\\\\\n",
    "\\end{matrix} & \\begin{bmatrix}\\vert&&\\vert\\\\ v_1  & \\cdots & v_n\\\\\\vert&&\\vert   \\end{bmatrix}\\\\\n",
    "1 & \\begin{matrix}\n",
    "1  & \\cdots  & 1\\\\ \n",
    "\\end{matrix} \n",
    "\\end{pmatrix}}{det \\begin{pmatrix}\n",
    " \\begin{bmatrix} v_1  & \\cdots  & v_n \\end{bmatrix}\\\\\n",
    " \\begin{matrix}\n",
    "1  & \\cdots  & 1\\\\ \n",
    "\\end{matrix} \n",
    "\\end{pmatrix}}$$\n"
   ]
  },
  {
   "cell_type": "markdown",
   "metadata": {},
   "source": [
    "Para melhor compreensão, faremos um exemplo:\n",
    "\n",
    "Seja $$V = \\begin{bmatrix}\n",
    "1& 2& 3\\\\\n",
    "1& 3  & 2\n",
    "\\end{bmatrix} \\ \\ \\ e \\ \\ \\   D = \\begin{bmatrix}\n",
    "0& 1& -2\\\\\n",
    "2& 2  & -1\n",
    "\\end{bmatrix}$$\n",
    "\n",
    "\\\\\\\n",
    "\n",
    "$$T = (-1) \\cdot \\dfrac{det \\begin{pmatrix}\n",
    "0 & (1,1)  & (2,3) & (3,2)\\\\\n",
    "x & 0& 1& -2\\\\\n",
    "y & 2& 2  & -1  & \\\\\n",
    "1 & 1 & 1 & 1\n",
    "\\end{pmatrix}}{det \\begin{pmatrix}\n",
    "  1  & 2  & 3\\\\\n",
    "2& 2  & -1\\\\\n",
    "1  & 1  & 1 \n",
    "\\end{pmatrix}}$$\n",
    "\\ \\ \\\n",
    "\n",
    "Com os coeficientes encontrados, podemos escrever a posição de $ui$ como combinação convexa dos vértices do triângulo a que pertence, bem como determinar sua localização na imagem inicial e final."
   ]
  },
  {
   "cell_type": "code",
   "execution_count": 3,
   "metadata": {},
   "outputs": [
    {
     "name": "stdout",
     "output_type": "stream",
     "text": [
      "Affine transformation matrix:\n",
      " [[-1.66666667  1.33333333]\n",
      " [-2.          1.        ]]\n",
      "Affine transformation translation vector:\n",
      " [0.33333333 3.        ]\n"
     ]
    }
   ],
   "source": [
    "#Computação do exemplo acima:\n",
    "import numpy as np\n",
    "ins = [[1, 1], [2, 3], [3, 2]]  # <- V\n",
    "out = [[0, 2], [1, 2], [-2, -1]] # <-D\n",
    "\n",
    "l = len(ins)\n",
    "B = np.vstack([np.transpose(ins), np.ones(l)])\n",
    "D = 1.0 / np.linalg.det(B)\n",
    "\n",
    "entry = lambda r,d: np.linalg.det(np.delete(np.vstack([r, B]), (d+1), axis=0))\n",
    "\n",
    "M = [[(-1)**i * D * entry(R, i) for i in range(l)] for R in np.transpose(out)]\n",
    "\n",
    "A, t = np.hsplit(np.array(M), [l-1])\n",
    "\n",
    "t = np.transpose(t)[0]\n",
    "\n",
    "print(\"Affine transformation matrix:\\n\", A)\n",
    "print(\"Affine transformation translation vector:\\n\", t)"
   ]
  },
  {
   "cell_type": "markdown",
   "metadata": {},
   "source": [
    "O método SAM permite a computação relativamente simples do problema. Poderíamos, alternativamente, encontrar os coeficientes escrevendo cada ponto como uma combinação convexa dos vértices do triângulo, na imagem inicial, final e deformada e resolver o sistema."
   ]
  },
  {
   "cell_type": "markdown",
   "metadata": {},
   "source": [
    "\n",
    "Calculadas as matrizes transformação, aplicamos, essa transformação em todos os pixels dentro de cada região triangular da imagem inicial. Repete-se o processo com a imagem final. \n",
    "\n",
    "Por fim, devemos unir as duas imagens deformadas para o mesmo instante $t$ para obter o morfismo. Para tal, calculamos a média ponderada da densidade (níveis de cinza), com a fórmula: \n",
    "\n",
    "$Pu = Pv + k(Pw -Pv)$\n",
    "\n",
    "Seja $Pv$ a matriz densidade da imagem inicial e $Pw$ da imagem final.\n",
    "\n",
    "Aplica-se a função densidade para cada pontou $ui$ e obtem-se o morfismo. A malha abaixo demostra o processo:\n",
    "\n",
    "\n",
    "<img src=\"img/malha densidade.png\" width=\"500\">"
   ]
  },
  {
   "cell_type": "markdown",
   "metadata": {},
   "source": [
    "# Aplicação"
   ]
  },
  {
   "cell_type": "markdown",
   "metadata": {},
   "source": [
    "Utilizamos como base o código da plataforma \"Learn OpenCV\" para nossas aplicações. Nesse, são utilizadas as bibliotecas: Open CV (cv2), Numpy, DLib e Random. Nosso principal objetivo foi, essencialmente, aplicar o conteúdo estudado para melhor compreensão do seu funcionamento. Para tal, escolhemos utilizar imagens de personalidades conhecidas, tornando o processo mais interessante."
   ]
  },
  {
   "cell_type": "markdown",
   "metadata": {},
   "source": [
    "### Open CV"
   ]
  },
  {
   "cell_type": "markdown",
   "metadata": {},
   "source": [
    "Open CV (Open Source Computer Vision Library) e uma biblioteca de código aberta que permite desenvolvimento na área de visão computacional. Nesse código, foram utilizados seus algoritmos para a manipulação das imagens, incluindo todas as etapas essenciais do morfismo."
   ]
  },
  {
   "cell_type": "markdown",
   "metadata": {},
   "source": [
    "### Numpy"
   ]
  },
  {
   "cell_type": "markdown",
   "metadata": {},
   "source": [
    "Como a biblioteca Numpy foi desenvolvida para operar em arrays multidimensionais, suas funções permitem o desenvolvimento na área de processamento de imagem e computação gráfica, já que imagens são processadas como matrizes. Além disso, os métodos utilizados para a deformação e o morfismo baseam-se em Algebra Linear, área coberta pela biblioteca."
   ]
  },
  {
   "cell_type": "markdown",
   "metadata": {},
   "source": [
    "### Dlib"
   ]
  },
  {
   "cell_type": "markdown",
   "metadata": {},
   "source": [
    "Dblib é um biblioteca escrita em C++ que contém algoritmos de machine learning, dos quais utlizamos alguns para o reconhecimento e marcação dos pontos de vértices da imagem. "
   ]
  },
  {
   "cell_type": "code",
   "execution_count": 3,
   "metadata": {},
   "outputs": [],
   "source": [
    "import cv2\n",
    "import numpy as np\n",
    "import dlib\n",
    "import random"
   ]
  },
  {
   "cell_type": "markdown",
   "metadata": {},
   "source": [
    "## Detecção dos pontos"
   ]
  },
  {
   "cell_type": "markdown",
   "metadata": {},
   "source": [
    "A parte inicial do código utiliza um algoritmo de Machine Learning para detectar os pontos essenciais do rostos presentes na imagem escolhida. Além dessa marcação de ponto iniciais, foi necessário marcar outros manualmente para melhores resultados, como será discutivo ao final do processo, com a comparação de resultados."
   ]
  },
  {
   "cell_type": "code",
   "execution_count": 4,
   "metadata": {},
   "outputs": [
    {
     "data": {
      "text/plain": [
       "True"
      ]
     },
     "execution_count": 4,
     "metadata": {},
     "output_type": "execute_result"
    }
   ],
   "source": [
    "# carregando as funções para detectar os pontos essenciais do rosto e de objetos de referência\n",
    "detector = dlib.get_frontal_face_detector()\n",
    "predictor = dlib.shape_predictor(\"FaceMorph/shape_predictor_68_face_landmarks.dat\")\n",
    "\n",
    "# carrega a imagem\n",
    "img = cv2.imread(\"FaceMorph/yuri.jpg\")\n",
    "\n",
    "# Converte a imagem para uma escala de cinza\n",
    "gray = cv2.cvtColor(src=img, code=cv2.COLOR_BGR2GRAY)\n",
    "\n",
    "# Usa o detector para encontrar e marcar os pontos \n",
    "faces = detector(gray)\n",
    "for face in faces:\n",
    "    x1 = face.left() # left point\n",
    "    y1 = face.top() # top point\n",
    "    x2 = face.right() # right point\n",
    "    y2 = face.bottom() # bottom point\n",
    "\n",
    "    landmarks = predictor(image=gray, box=face)\n",
    "    \n",
    "    points = []\n",
    "    for n in range(0, 68):\n",
    "        x = landmarks.part(n).x\n",
    "        y = landmarks.part(n).y\n",
    "            \n",
    "        points.append([x,y])\n",
    "    #Marcação de outros pontos manualmente para melhorar o resultado.\n",
    "    points_bordo = [[390 ,200],[300, 400],[0, 350],[599 ,350],[0, 0],[0 ,200],[0 ,799],[300, 799],[599, 799],[599, 200],[599, 0],[300, 0]]\n",
    "    \n",
    "    for i in points_bordo:\n",
    "        points.append(i)\n",
    "    \n",
    "    for n in points:\n",
    "        x = n[0]\n",
    "        y = n[1]\n",
    "        \n",
    "        # Desenha um círculo\n",
    "        cv2.circle(img=img, center=(x, y), radius=3, color=(0,0, 255), thickness=-1)\n",
    "\n",
    "# Escreve os pontos em um txt\n",
    "def write_txt(conteudo, filename):\n",
    "      points = []\n",
    "      for i in range(len(conteudo)):\n",
    "          if i != (len(conteudo)-1):\n",
    "              points.append(f\"{conteudo[i][0]} {conteudo[i][1]}\\n\")\n",
    "          else:\n",
    "              points.append(f\"{conteudo[i][0]} {conteudo[i][1]}\")\n",
    "           \n",
    "      arquivo = open(filename + \".txt\", 'w') \n",
    "      arquivo.writelines(points)\n",
    "      arquivo.close()\n",
    "     \n",
    "#write_txt(points, \"yuri.jpg\")\n",
    "\n",
    "# Plota a imagem\n",
    "cv2.imshow(winname=\"Face\", mat=img)\n",
    "\n",
    "cv2.waitKey(delay=0)\n",
    "\n",
    "# Fechar janelas do programa\n",
    "cv2.destroyAllWindows()\n",
    "\n",
    "#salva a imagem com os pontos desenhados\n",
    "cv2.imwrite('FaceMorph/Yuri_pontos.jpg',img)"
   ]
  },
  {
   "cell_type": "markdown",
   "metadata": {},
   "source": [
    "<img src=\"FaceMorph/Yuri_pontos.jpg\" width=\"300\">"
   ]
  },
  {
   "cell_type": "markdown",
   "metadata": {},
   "source": [
    "## Triangulação"
   ]
  },
  {
   "cell_type": "markdown",
   "metadata": {},
   "source": [
    "Esse módulo cria a triangulação das imagens baseados no método de Delaunay."
   ]
  },
  {
   "cell_type": "code",
   "execution_count": 5,
   "metadata": {},
   "outputs": [
    {
     "name": "stderr",
     "output_type": "stream",
     "text": [
      "<ipython-input-5-2a991836ac11>:34: DeprecationWarning: an integer is required (got type numpy.float32).  Implicit conversion to integers using __int__ is deprecated, and may be removed in a future version of Python.\n",
      "  cv2.line(img, pt1, pt2, delaunay_color, 1, 0)\n",
      "<ipython-input-5-2a991836ac11>:35: DeprecationWarning: an integer is required (got type numpy.float32).  Implicit conversion to integers using __int__ is deprecated, and may be removed in a future version of Python.\n",
      "  cv2.line(img, pt2, pt3, delaunay_color, 1,  0)\n",
      "<ipython-input-5-2a991836ac11>:36: DeprecationWarning: an integer is required (got type numpy.float32).  Implicit conversion to integers using __int__ is deprecated, and may be removed in a future version of Python.\n",
      "  cv2.line(img, pt3, pt1, delaunay_color, 1,  0)\n"
     ]
    }
   ],
   "source": [
    "# Confere se um ponto pertence a um triângulo\n",
    "def rect_contains(rect, point) :\n",
    "    if point[0] < rect[0] :\n",
    "        return False\n",
    "    elif point[1] < rect[1] :\n",
    "        return False\n",
    "    elif point[0] > rect[2] :\n",
    "        return False\n",
    "    elif point[1] > rect[3] :\n",
    "        return False\n",
    "    return True\n",
    "\n",
    "# Desenha o ponto\n",
    "def draw_point(img, p, color ) :\n",
    "    cv2.circle( img, p, 2, color, -1 )\n",
    "\n",
    "\n",
    "# Desenha a triangulaççao de Delaunay\n",
    "def draw_delaunay(img, subdiv, delaunay_color ) :\n",
    "\n",
    "    triangleList = subdiv.getTriangleList();\n",
    "    size = img.shape\n",
    "    r = (0, 0, size[1], size[0])\n",
    "    \n",
    "    \n",
    "    for t in triangleList :\n",
    "        \n",
    "        pt1 = (t[0], t[1])\n",
    "        pt2 = (t[2], t[3])\n",
    "        pt3 = (t[4], t[5])\n",
    "        \n",
    "        if rect_contains(r, pt1) and rect_contains(r, pt2) and rect_contains(r, pt3) :\n",
    "        \n",
    "            cv2.line(img, pt1, pt2, delaunay_color, 1, 0)\n",
    "            cv2.line(img, pt2, pt3, delaunay_color, 1,  0)\n",
    "            cv2.line(img, pt3, pt1, delaunay_color, 1,  0)\n",
    "\n",
    "\n",
    "\n",
    "if __name__ == '__main__':\n",
    "\n",
    "    win_delaunay = \"Delaunay Triangulation\"\n",
    "\n",
    "    \n",
    "    # Define as cores dos segmentos e pontos\n",
    "    delaunay_color = (255,255,255)\n",
    "    points_color = (0, 0, 255)\n",
    "\n",
    "    # Lê a imagem\n",
    "    img = cv2.imread(\"FaceMorph/yuri.jpg\");\n",
    "    \n",
    "\n",
    "    size = img.shape\n",
    "    rect = (0, 0, size[1], size[0])\n",
    "    \n",
    "    # Cria uma instancia do Subdiv2D\n",
    "    subdiv = cv2.Subdiv2D(rect);\n",
    "\n",
    "    points = [];\n",
    "    \n",
    "    # Le os pontos marcados anteriormente\n",
    "    with open(\"FaceMorph/yuri.jpg.txt\") as file :\n",
    "        for line in file :\n",
    "            x, y = line.split()\n",
    "            points.append((int(x), int(y)))\n",
    "    \n",
    "    for p in points :\n",
    "        subdiv.insert(p)\n",
    "          \n",
    "\n",
    "    # Desenha a triangulação\n",
    "    draw_delaunay( img, subdiv, (0, 0, 255) );\n",
    "\n",
    "    # Desenha os pontos\n",
    "    for p in points :\n",
    "        draw_point(img, p, (0,0,255))\n",
    "\n",
    "\n",
    "\n",
    "    # Plota os resultados\n",
    "    cv2.imshow(win_delaunay,img)\n",
    "    cv2.waitKey(0)\n",
    "    cv2.imwrite('FaceMorph/Yuri_triangulacao.jpg',img)"
   ]
  },
  {
   "cell_type": "markdown",
   "metadata": {},
   "source": [
    "<img src=\"FaceMorph/Yuri_triangulacao.jpg\" width=\"300\">"
   ]
  },
  {
   "cell_type": "markdown",
   "metadata": {},
   "source": [
    "## Morfismo"
   ]
  },
  {
   "cell_type": "markdown",
   "metadata": {},
   "source": [
    "Finalmente, o último módulo realmente aplica o morfismo. O código segue estritamente os passos comentados na parte teórica. Após ler os pontos, o código aplica o morfismo em um triângulo por vez, chamando a função \"morphTriangle\" em um loop for, que, inicialmente, calcula os morfismos para instantes t diferentes. Finalizado esse processo, a função \"applyAffineTransform\" calcula as transformações afim sofridas por cada região através da função \"getAffineTransform\" e as aplica utilizando \"warpAffine\". Por fim, a função densidade é aplicada e temos o resultado na saida."
   ]
  },
  {
   "cell_type": "code",
   "execution_count": 6,
   "metadata": {},
   "outputs": [],
   "source": [
    "#Lê os pontos em um txt\n",
    "def readPoints(path) :\n",
    "    # Create an array of points.\n",
    "    points = [];\n",
    "    # Read points\n",
    "    with open(path) as file :\n",
    "        for line in file :\n",
    "            x, y = line.split()\n",
    "            points.append((int(x), int(y)))\n",
    "\n",
    "    return points\n",
    "\n",
    "#Calcula a transformação Afim e aplica na imagem \n",
    "def applyAffineTransform(src, srcTri, dstTri, size) :\n",
    "    \n",
    "    # Dado um par de triangulações (original e deformada), encontra a triangulação\n",
    "    warpMat = cv2.getAffineTransform( np.float32(srcTri), np.float32(dstTri) )\n",
    "    \n",
    "    # Aplica a transformação encontrada na imagem \"src\"\n",
    "    dst = cv2.warpAffine( src, warpMat, (size[0], size[1]), None, flags=cv2.INTER_LINEAR, borderMode=cv2.BORDER_REFLECT_101 )\n",
    "\n",
    "    return dst\n",
    "\n",
    "\n",
    "#Combina as regioes triangulares\n",
    "def morphTriangle(img1, img2, img, t1, t2, t, alpha) :\n",
    "\n",
    "    #Encontra o retângulo delimitador de cada imagem\n",
    "    r1 = cv2.boundingRect(np.float32([t1]))\n",
    "    r2 = cv2.boundingRect(np.float32([t2]))\n",
    "    r = cv2.boundingRect(np.float32([t]))\n",
    "\n",
    "\n",
    "    # Offset points by left top corner of the respective rectangles\n",
    "    t1Rect = []\n",
    "    t2Rect = []\n",
    "    tRect = []\n",
    "\n",
    "\n",
    "    for i in range(0, 3):\n",
    "        tRect.append(((t[i][0] - r[0]),(t[i][1] - r[1])))\n",
    "        t1Rect.append(((t1[i][0] - r1[0]),(t1[i][1] - r1[1])))\n",
    "        t2Rect.append(((t2[i][0] - r2[0]),(t2[i][1] - r2[1])))\n",
    "\n",
    "\n",
    "    # Get mask by filling triangle\n",
    "    mask = np.zeros((r[3], r[2], 3), dtype = np.float32)\n",
    "    cv2.fillConvexPoly(mask, np.int32(tRect), (1.0, 1.0, 1.0), 16, 0);\n",
    "\n",
    "    # Prepara para aplicar a transformação em recortes retangulares menores\n",
    "    img1Rect = img1[r1[1]:r1[1] + r1[3], r1[0]:r1[0] + r1[2]]\n",
    "    img2Rect = img2[r2[1]:r2[1] + r2[3], r2[0]:r2[0] + r2[2]]\n",
    "\n",
    "    size = (r[2], r[3])\n",
    "    warpImage1 = applyAffineTransform(img1Rect, t1Rect, tRect, size)\n",
    "    warpImage2 = applyAffineTransform(img2Rect, t2Rect, tRect, size)\n",
    "\n",
    "    # Aplica a função densidade\n",
    "    imgRect = (1.0 - alpha) * warpImage1 + alpha * warpImage2\n",
    "\n",
    "    # Copiar a região triangular para a imagem de saída\n",
    "    img[r[1]:r[1]+r[3], r[0]:r[0]+r[2]] = img[r[1]:r[1]+r[3], r[0]:r[0]+r[2]] * ( 1 - mask ) + imgRect * mask\n",
    "\n",
    "\n",
    "if __name__ == '__main__' :\n",
    "\n",
    "    filename1 = 'FaceMorph/yuri.jpg'\n",
    "    filename2 = 'FaceMorph/strang2.jpg'\n",
    "    alpha = 0.5\n",
    "    \n",
    "    # Carrega as imagens\n",
    "    img1 = cv2.imread(filename1);\n",
    "    img2 = cv2.imread(filename2);\n",
    "    \n",
    "    # Converte para float\n",
    "    img1 = np.float32(img1)\n",
    "    img2 = np.float32(img2)\n",
    "\n",
    "    # Le a matriz de pontos\n",
    "    points1 = readPoints(filename1 + '.txt')\n",
    "    points2 = readPoints(filename2 + '.txt')\n",
    "    points = [];\n",
    "\n",
    "    # Computa pontos médios ponderados\n",
    "    for i in range(0, len(points1)):\n",
    "        x = ( 1 - alpha ) * points1[i][0] + alpha * points2[i][0]\n",
    "        y = ( 1 - alpha ) * points1[i][1] + alpha * points2[i][1]\n",
    "        points.append((x,y))\n",
    "\n",
    "\n",
    "    # Alocação de espaço\n",
    "    imgMorph = np.zeros(img1.shape, dtype = img1.dtype)\n",
    "\n",
    "    # Le as triangulações de um txt\n",
    "    with open(\"FaceMorph/tri.txt\") as file :\n",
    "        for line in file :\n",
    "            x,y,z = line.split()\n",
    "            \n",
    "            x = int(x)\n",
    "            y = int(y)\n",
    "            z = int(z)\n",
    "            \n",
    "            t1 = [points1[x], points1[y], points1[z]]\n",
    "            t2 = [points2[x], points2[y], points2[z]]\n",
    "            t = [ points[x], points[y], points[z] ]\n",
    "\n",
    "            # Aplica o morfismo em um triangulo por vez\n",
    "            morphTriangle(img1, img2, imgMorph, t1, t2, t, alpha)\n",
    "\n",
    "\n",
    "    # Plota resultados\n",
    "    cv2.imshow(\"Morphed Face\", np.uint8(imgMorph))\n",
    "    cv2.waitKey(0)\n",
    "    cv2.imwrite('FaceMorph/YuriStrang.jpg',imgMorph)"
   ]
  },
  {
   "cell_type": "markdown",
   "metadata": {},
   "source": [
    "<img src=\"FaceMorph/YuriStrang.jpg\" width=\"300\">"
   ]
  },
  {
   "cell_type": "markdown",
   "metadata": {},
   "source": [
    "# Conclusão"
   ]
  },
  {
   "cell_type": "markdown",
   "metadata": {},
   "source": [
    "## Algebra Linear"
   ]
  },
  {
   "cell_type": "markdown",
   "metadata": {},
   "source": [
    "  A pesquisa que fundamentou a elaboração desse relatório tornou-se muito interessante, ao possibilitar o conhecimento da aplicação da Algebra Linear -bem como outras áreas do conhecimento- em contextos diversos. Como citado, as deformações e morfismos, em especial, estão presentes em situações do dia a dia - como em filmes e em jogos, mas também em pesquisas científicas - como na área da zoologia e da medicina legal.\n",
    "  \n",
    "  Além disso, buscando entender a matemática em que os processos se baseiam, aprendemos métodos diferentes de computar um mesmo problema. Situação que permitiu uma compreensão mais aprofundada da matéria em questão. Um exemplo concreto disso foi o mapeamento da Transformação Afim, que nesse caso resolvemos pelo método SAM, mas outro poderia ter utilizado Eliminação de Gauss."
   ]
  },
  {
   "cell_type": "markdown",
   "metadata": {},
   "source": [
    "## Discussão de resultados"
   ]
  },
  {
   "cell_type": "markdown",
   "metadata": {},
   "source": [
    "Um dos pontos de maior destaque, na comparação dos nossos resultados com os de referência mostrados ao longo do relatório, é a sobreposição das partes da imagem ao redor dos rostos. Isso ocorreu, pois priorizamos a triangulação ao redor da face, não marcando muitos pontos nos outros objetos da figura. Essa decisão foi tomada, uma vez que o algoritmo usado detecta somente faces e, teríamos que marcar os demais pontos manualmente, o que não seria proveitoso, visto que não era o maior foco dessa pesquisa. As imagens que seguem mostram a diferença entre a triangulação da nossa aplicação e uma retirada do artigo \"Algoritmo Paralelo para Morfismo de Imagem em Arquitetura Multiprocessada, FRIZZO Gustavo \""
   ]
  },
  {
   "cell_type": "markdown",
   "metadata": {},
   "source": [
    "<img src=\"FaceMorph/StrangYuriTriangulacao.jpg\" width=\"300\">\n",
    "<img src=\"img/Ian-Obama%20Triangulação.png\" width=\"300\">"
   ]
  },
  {
   "cell_type": "markdown",
   "metadata": {},
   "source": [
    "Tal comparação ajuda complementar, também, a importância dos passos de marcação de pontos e triangulação. Caso fossem somente aplicadas as fórmulas, o resultado seria próximo do que obtivemos ao redor do rosto, mas na imagem inteira, tornando o processo pouco eficiente."
   ]
  },
  {
   "cell_type": "markdown",
   "metadata": {},
   "source": [
    "## Resultados"
   ]
  },
  {
   "cell_type": "markdown",
   "metadata": {},
   "source": [
    "Realizamos outros morfismos com figuras diferentes, utilizando o mesmo código base, seguem os resultados."
   ]
  },
  {
   "cell_type": "markdown",
   "metadata": {},
   "source": [
    "<img src=\"FaceMorph/ev_DonaldBiden.jpg\" width=\"700\">\n",
    "\n",
    "<img src=\"FaceMorph/ev_BonoLula.jpg\" width=\"700\">\n",
    "\n",
    "<img src=\"FaceMorph/evol_yuriStrang.jpg\" width=\"700\">"
   ]
  },
  {
   "cell_type": "markdown",
   "metadata": {},
   "source": [
    "# Referências\n"
   ]
  },
  {
   "cell_type": "markdown",
   "metadata": {},
   "source": [
    "@misc{mallick_2016, title={Face Morph Using OpenCV - C / Python}, url={https://www.learnopencv.com/face-morph-using-opencv-cpp-python/#id3184778260}, journal={Learn OpenCV}, author={Mallick, Satya}, year={2016}, month={Mar}}\n",
    "\n",
    "@phdthesis{frizzo _2011, title={Algoritmo Paralelo para Morfismo de Imagem em Arquitetura Multiprocessada}, author={FRIZZO , Gustavo Francisco}, year={2011}}\n",
    "Trabalho de conclusão de curso\n",
    "\n",
    "@book{frizzohoward _rorres , edition={12}, title={lementary Linear Algebra: Applpications Version}, author={FRIZZOHOWARD , Antom and RORRES , Chris,}}\n",
    "\n",
    "@unknown{unknown,\n",
    "author = {Tymchyshyn, Vitalii and Khlevniuk, Andrii},\n",
    "year = {2019},\n",
    "month = {05},\n",
    "pages = {},\n",
    "title = {Workbook on mapping simplexes affinely},\n",
    "doi = {10.13140/RG.2.2.16346.18881}\n",
    "}\n",
    "\n",
    "@unknown{unknown,\n",
    "author = {Tymchyshyn, Vitalii and Khlevniuk, Andrii},\n",
    "year = {2019},\n",
    "month = {04},\n",
    "pages = {},\n",
    "title = {Beginner's guide to mapping simplexes affinely},\n",
    "doi = {10.13140/RG.2.2.13787.41762}\n",
    "}\n",
    "\n",
    "\n",
    "@MISC{martinez_2020,\n",
    "author = {Martinez, Cruz Juan},\n",
    "title = {Detecting Face Features with Python},\n",
    "month = jul,\n",
    "year = {2020},\n",
    "howpublished={\\url{https://livecodestream.dev/post/2020-07-03-detecting-face-features-with-python/}}\n",
    "}"
   ]
  }
 ],
 "metadata": {
  "kernelspec": {
   "display_name": "Python 3",
   "language": "python",
   "name": "python3"
  },
  "language_info": {
   "codemirror_mode": {
    "name": "ipython",
    "version": 3
   },
   "file_extension": ".py",
   "mimetype": "text/x-python",
   "name": "python",
   "nbconvert_exporter": "python",
   "pygments_lexer": "ipython3",
   "version": "3.8.5"
  }
 },
 "nbformat": 4,
 "nbformat_minor": 4
}
